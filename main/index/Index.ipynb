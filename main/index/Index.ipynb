{
 "cells": [
  {
   "cell_type": "code",
   "execution_count": null,
   "metadata": {},
   "outputs": [],
   "source": [
    "#############################\n",
    "# Primer commit main App-Prueba\n",
    "# *Subir a Github\n",
    "# * Index.py\n",
    "# ejecutable.exe\n",
    "# release: 26/10/2022\n",
    "# developer: Sergio Depetris\n",
    "##############################\n",
    "\n",
    "#main-resources\n",
    "\n",
    "marca = \"HIDROFA\", \"GAMMA\", \"KARCHER\", \"LUSQTOFF\", \"BLACK&DECKER\", \"NIWA\", \"ELECTROLUX\", \"DAEWO\", \"MOTOMEL\", \"ECHO\", \"STHILL\"\n",
    "\n",
    "presion = \"100\", \"150\", \"200\" \n",
    "\n",
    "#index\n",
    "marca = input('ingrese marca')\n",
    "print ('usted quiere, ' + marca)\n",
    "\n",
    "presion = input('ingrese presion')\n",
    "print ('usted quiere, ' + presion)"
   ]
  }
 ],
 "metadata": {
  "kernelspec": {
   "display_name": "Python 3.11.0 64-bit",
   "language": "python",
   "name": "python3"
  },
  "language_info": {
   "name": "python",
   "version": "3.11.0"
  },
  "orig_nbformat": 4,
  "vscode": {
   "interpreter": {
    "hash": "c812eb984687e98b7686c463c3fae2045e58b2a2b4e065b3dcebe3cb7d51662e"
   }
  }
 },
 "nbformat": 4,
 "nbformat_minor": 2
}
