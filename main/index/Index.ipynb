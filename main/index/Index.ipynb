{
 "cells": [
  {
   "cell_type": "code",
   "execution_count": null,
   "metadata": {},
   "outputs": [],
   "source": [
    "#############################\n",
    "# Primer commit main App-Prueba\n",
    "# *Subir a Github\n",
    "# * Index.py\n",
    "# ejecutable.exe\n",
    "# release: 26/10/2022\n",
    "# developer: Salto Juan Bautista\n",
    "##############################\n",
    "\n",
    "#main-resources\n",
    "talles = \"L\", \"M\", \"S\", \"X\" \"XL\", \"XXL\" \n",
    "\n",
    "modelo = \"tiro ancho\", \"tiro bajo\", \"chupin\", \"acampanado\", \"roto\", \"corte inglés\"\n",
    "\n",
    "#index\n",
    "talle = input('ingrese talla')\n",
    "print ('usted quiere, ' + talle)\n",
    "\n",
    "modelo = input('ingrese modelo')\n",
    "print ('usted quiere, ' + modelo)"
   ]
  }
 ],
 "metadata": {
  "kernelspec": {
   "display_name": "Python 3.11.0 64-bit",
   "language": "python",
   "name": "python3"
  },
  "language_info": {
   "name": "python",
   "version": "3.11.0"
  },
  "orig_nbformat": 4,
  "vscode": {
   "interpreter": {
    "hash": "c812eb984687e98b7686c463c3fae2045e58b2a2b4e065b3dcebe3cb7d51662e"
   }
  }
 },
 "nbformat": 4,
 "nbformat_minor": 2
}
